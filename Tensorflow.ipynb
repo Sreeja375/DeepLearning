{
  "nbformat": 4,
  "nbformat_minor": 0,
  "metadata": {
    "colab": {
      "provenance": []
    },
    "kernelspec": {
      "name": "python3",
      "display_name": "Python 3"
    },
    "language_info": {
      "name": "python"
    }
  },
  "cells": [
    {
      "cell_type": "markdown",
      "source": [
        "Basic Tensor Operations in TensorFlow"
      ],
      "metadata": {
        "id": "gTC3TRuNXxwT"
      }
    },
    {
      "cell_type": "markdown",
      "source": [
        "1. Creating Tensors"
      ],
      "metadata": {
        "id": "qgo0078gX1Uh"
      }
    },
    {
      "cell_type": "code",
      "execution_count": 1,
      "metadata": {
        "id": "63qkRX9bXuWa"
      },
      "outputs": [],
      "source": [
        "import tensorflow as tf\n",
        "\n",
        "scalar_tensor = tf.constant(5)\n",
        "vector_tensor = tf.constant([1, 2, 3, 4])\n",
        "\n",
        "matrix_tensor = tf.constant([[1, 2], [3, 4]])\n",
        "tensor_3d = tf.constant([[[1, 2], [3, 4]], [[5, 6], [7, 8]]])\n",
        "zeros_tensor = tf.zeros([3, 3])\n",
        "ones_tensor = tf.ones([2, 2])"
      ]
    },
    {
      "cell_type": "markdown",
      "source": [
        "tensor operations"
      ],
      "metadata": {
        "id": "QjAm7EPVYB0h"
      }
    },
    {
      "cell_type": "code",
      "source": [
        "import tensorflow as tf\n",
        "\n",
        "matrix_tensor = tf.constant([[1, 2], [3, 4]])\n",
        "\n",
        "ones_tensor = tf.ones_like(matrix_tensor)\n",
        "tensor_add = tf.add(matrix_tensor, ones_tensor)\n",
        "matrix_mult = tf.matmul(matrix_tensor, matrix_tensor)\n",
        "reshaped_tensor = tf.reshape(matrix_tensor, [4, 1])\n",
        "\n",
        "transpose_tensor = tf.transpose(matrix_tensor)"
      ],
      "metadata": {
        "id": "SSmrZfgZX7i5"
      },
      "execution_count": 2,
      "outputs": []
    },
    {
      "cell_type": "markdown",
      "source": [
        "Accessing Elements in a Tensor"
      ],
      "metadata": {
        "id": "uIAa6OM9YU-R"
      }
    },
    {
      "cell_type": "code",
      "source": [
        "import tensorflow as tf\n",
        "\n",
        "vector_tensor = tf.constant([1, 2, 3, 4])\n",
        "first_element = vector_tensor[0]\n",
        "matrix_tensor = tf.constant([[1, 2], [3, 4]])\n",
        "\n",
        "matrix_slice = matrix_tensor[:2, :]"
      ],
      "metadata": {
        "id": "ueBSRgQmYKPC"
      },
      "execution_count": 3,
      "outputs": []
    },
    {
      "cell_type": "markdown",
      "source": [
        "Changing Tensor Shape"
      ],
      "metadata": {
        "id": "tFlMLq04Yf83"
      }
    },
    {
      "cell_type": "code",
      "source": [
        "reshaped_tensor = tf.reshape(matrix_tensor, [4, 1])"
      ],
      "metadata": {
        "id": "vIWRSy1pYZ2R"
      },
      "execution_count": 4,
      "outputs": []
    },
    {
      "cell_type": "markdown",
      "source": [],
      "metadata": {
        "id": "uUmxP4LtYq5V"
      }
    },
    {
      "cell_type": "code",
      "source": [
        "import tensorflow as tf\n",
        "from tensorflow.keras.models import Sequential\n",
        "from tensorflow.keras.layers import Dense\n",
        "\n",
        "X_train = tf.random.normal([100, 10])\n",
        "y_train = tf.random.normal([100, 1])\n",
        "\n",
        "model = Sequential([\n",
        "    Dense(64, activation='relu', input_shape=(10,)),\n",
        "    Dense(32, activation='relu'),\n",
        "    Dense(1)\n",
        "])\n",
        "\n",
        "model.compile(optimizer='adam', loss='mse')\n",
        "\n",
        "model.fit(X_train, y_train, epochs=10)"
      ],
      "metadata": {
        "colab": {
          "base_uri": "https://localhost:8080/"
        },
        "id": "betvDU-lYhY8",
        "outputId": "95f09b80-449b-4131-fe94-b8e5a4f46a05"
      },
      "execution_count": 5,
      "outputs": [
        {
          "output_type": "stream",
          "name": "stdout",
          "text": [
            "Epoch 1/10\n"
          ]
        },
        {
          "output_type": "stream",
          "name": "stderr",
          "text": [
            "/usr/local/lib/python3.12/dist-packages/keras/src/layers/core/dense.py:93: UserWarning: Do not pass an `input_shape`/`input_dim` argument to a layer. When using Sequential models, prefer using an `Input(shape)` object as the first layer in the model instead.\n",
            "  super().__init__(activity_regularizer=activity_regularizer, **kwargs)\n"
          ]
        },
        {
          "output_type": "stream",
          "name": "stdout",
          "text": [
            "\u001b[1m4/4\u001b[0m \u001b[32m━━━━━━━━━━━━━━━━━━━━\u001b[0m\u001b[37m\u001b[0m \u001b[1m1s\u001b[0m 10ms/step - loss: 1.0675\n",
            "Epoch 2/10\n",
            "\u001b[1m4/4\u001b[0m \u001b[32m━━━━━━━━━━━━━━━━━━━━\u001b[0m\u001b[37m\u001b[0m \u001b[1m0s\u001b[0m 10ms/step - loss: 0.8855\n",
            "Epoch 3/10\n",
            "\u001b[1m4/4\u001b[0m \u001b[32m━━━━━━━━━━━━━━━━━━━━\u001b[0m\u001b[37m\u001b[0m \u001b[1m0s\u001b[0m 9ms/step - loss: 0.8061 \n",
            "Epoch 4/10\n",
            "\u001b[1m4/4\u001b[0m \u001b[32m━━━━━━━━━━━━━━━━━━━━\u001b[0m\u001b[37m\u001b[0m \u001b[1m0s\u001b[0m 9ms/step - loss: 0.8503 \n",
            "Epoch 5/10\n",
            "\u001b[1m4/4\u001b[0m \u001b[32m━━━━━━━━━━━━━━━━━━━━\u001b[0m\u001b[37m\u001b[0m \u001b[1m0s\u001b[0m 9ms/step - loss: 0.7050 \n",
            "Epoch 6/10\n",
            "\u001b[1m4/4\u001b[0m \u001b[32m━━━━━━━━━━━━━━━━━━━━\u001b[0m\u001b[37m\u001b[0m \u001b[1m0s\u001b[0m 10ms/step - loss: 0.7153\n",
            "Epoch 7/10\n",
            "\u001b[1m4/4\u001b[0m \u001b[32m━━━━━━━━━━━━━━━━━━━━\u001b[0m\u001b[37m\u001b[0m \u001b[1m0s\u001b[0m 9ms/step - loss: 0.7119 \n",
            "Epoch 8/10\n",
            "\u001b[1m4/4\u001b[0m \u001b[32m━━━━━━━━━━━━━━━━━━━━\u001b[0m\u001b[37m\u001b[0m \u001b[1m0s\u001b[0m 9ms/step - loss: 0.6487 \n",
            "Epoch 9/10\n",
            "\u001b[1m4/4\u001b[0m \u001b[32m━━━━━━━━━━━━━━━━━━━━\u001b[0m\u001b[37m\u001b[0m \u001b[1m0s\u001b[0m 9ms/step - loss: 0.7510 \n",
            "Epoch 10/10\n",
            "\u001b[1m4/4\u001b[0m \u001b[32m━━━━━━━━━━━━━━━━━━━━\u001b[0m\u001b[37m\u001b[0m \u001b[1m0s\u001b[0m 11ms/step - loss: 0.6569\n"
          ]
        },
        {
          "output_type": "execute_result",
          "data": {
            "text/plain": [
              "<keras.src.callbacks.history.History at 0x7e628c75b470>"
            ]
          },
          "metadata": {},
          "execution_count": 5
        }
      ]
    },
    {
      "cell_type": "markdown",
      "source": [
        "keras model building"
      ],
      "metadata": {
        "id": "CNRrz3jDZ_4X"
      }
    },
    {
      "cell_type": "markdown",
      "source": [
        ". Building Model using Sequential API+"
      ],
      "metadata": {
        "id": "1iPqSq7yaJsU"
      }
    },
    {
      "cell_type": "code",
      "source": [
        "from keras.models import Sequential\n",
        "from keras.layers import Dense, Activation\n",
        "\n",
        "model = Sequential()\n",
        "model.add(Dense(units=64, input_dim=100))\n",
        "model.add(Activation('relu'))\n",
        "model.add(Dense(units=10))\n",
        "model.add(Activation('softmax'))"
      ],
      "metadata": {
        "id": "dnY7LD_xaCEe"
      },
      "execution_count": 6,
      "outputs": []
    },
    {
      "cell_type": "markdown",
      "source": [
        "Building Model using Functional API"
      ],
      "metadata": {
        "id": "F2unJ2Z7aNfZ"
      }
    },
    {
      "cell_type": "code",
      "source": [
        "from keras.layers import Input, Dense, concatenate\n",
        "from keras.models import Model\n",
        "\n",
        "input1 = Input(shape=(100,))\n",
        "input2 = Input(shape=(50,))\n",
        "hidden1 = Dense(64, activation='relu')(input1)\n",
        "hidden2 = Dense(32, activation='relu')(input2)\n",
        "merged = concatenate([hidden1, hidden2])\n",
        "output = Dense(10, activation='softmax')(merged)\n",
        "\n",
        "model = Model(inputs=[input1, input2], outputs=output)"
      ],
      "metadata": {
        "id": "7odxySvKaSy5"
      },
      "execution_count": 7,
      "outputs": []
    },
    {
      "cell_type": "markdown",
      "source": [
        "PyTorch Tensors"
      ],
      "metadata": {
        "id": "rfGlthz5cOsG"
      }
    },
    {
      "cell_type": "code",
      "source": [
        "import torch\n",
        "\n",
        "x = torch.tensor([1.0, 2.0, 3.0])\n",
        "print('1D Tensor: \\n', x)\n",
        "\n",
        "y = torch.zeros((3, 3))\n",
        "print('2D Tensor: \\n', y)"
      ],
      "metadata": {
        "colab": {
          "base_uri": "https://localhost:8080/"
        },
        "id": "tyLCWjwscUhv",
        "outputId": "b8f51298-a968-4129-c01f-f630c7571d15"
      },
      "execution_count": 8,
      "outputs": [
        {
          "output_type": "stream",
          "name": "stdout",
          "text": [
            "1D Tensor: \n",
            " tensor([1., 2., 3.])\n",
            "2D Tensor: \n",
            " tensor([[0., 0., 0.],\n",
            "        [0., 0., 0.],\n",
            "        [0., 0., 0.]])\n"
          ]
        }
      ]
    },
    {
      "cell_type": "markdown",
      "source": [
        "Operations on Tensors"
      ],
      "metadata": {
        "id": "87KEv63ZcS-t"
      }
    },
    {
      "cell_type": "code",
      "source": [
        "\n",
        "\n",
        "a = torch.tensor([1.0, 2.0])\n",
        "b = torch.tensor([3.0, 4.0])\n",
        "\n",
        "print('Element Wise Addition of a & b: \\n', a + b)\n",
        "\n",
        "print('Matrix Multiplication of a & b: \\n',\n",
        "      torch.matmul(a.view(2, 1), b.view(1, 2)))"
      ],
      "metadata": {
        "colab": {
          "base_uri": "https://localhost:8080/"
        },
        "id": "Q2Ive7XLcaH_",
        "outputId": "824e66e5-5abd-47f8-caae-9adf076f89ff"
      },
      "execution_count": 9,
      "outputs": [
        {
          "output_type": "stream",
          "name": "stdout",
          "text": [
            "Element Wise Addition of a & b: \n",
            " tensor([4., 6.])\n",
            "Matrix Multiplication of a & b: \n",
            " tensor([[3., 4.],\n",
            "        [6., 8.]])\n"
          ]
        }
      ]
    },
    {
      "cell_type": "markdown",
      "source": [
        "Reshaping and Transposing Tensors"
      ],
      "metadata": {
        "id": "XaZTr2wVciUP"
      }
    },
    {
      "cell_type": "code",
      "source": [
        "import torch\n",
        "t = torch.tensor([[1, 2, 3, 4],\n",
        "                 [5, 6, 7, 8],\n",
        "                 [9, 10, 11, 12]])\n",
        "\n",
        "print(\"Reshaping\")\n",
        "print(t.reshape(6, 2))\n",
        "\n",
        "print(\"\\nResizing\")\n",
        "print(t.view(2, 6))\n",
        "\n",
        "print(\"\\nTransposing\")\n",
        "print(t.transpose(0, 1))"
      ],
      "metadata": {
        "colab": {
          "base_uri": "https://localhost:8080/"
        },
        "id": "suXYrXKnchR8",
        "outputId": "3c44c95c-8614-4794-8401-fd140f9afe4e"
      },
      "execution_count": 10,
      "outputs": [
        {
          "output_type": "stream",
          "name": "stdout",
          "text": [
            "Reshaping\n",
            "tensor([[ 1,  2],\n",
            "        [ 3,  4],\n",
            "        [ 5,  6],\n",
            "        [ 7,  8],\n",
            "        [ 9, 10],\n",
            "        [11, 12]])\n",
            "\n",
            "Resizing\n",
            "tensor([[ 1,  2,  3,  4,  5,  6],\n",
            "        [ 7,  8,  9, 10, 11, 12]])\n",
            "\n",
            "Transposing\n",
            "tensor([[ 1,  5,  9],\n",
            "        [ 2,  6, 10],\n",
            "        [ 3,  7, 11],\n",
            "        [ 4,  8, 12]])\n"
          ]
        }
      ]
    },
    {
      "cell_type": "markdown",
      "source": [
        "Autograd and Computational Graphs"
      ],
      "metadata": {
        "id": "3W_BLgeRctA_"
      }
    },
    {
      "cell_type": "code",
      "source": [
        "x = torch.tensor(2.0, requires_grad=True)\n",
        "y = x ** 2\n",
        "y.backward()\n",
        "print(x.grad)"
      ],
      "metadata": {
        "colab": {
          "base_uri": "https://localhost:8080/"
        },
        "id": "wHD2XoDDcrxJ",
        "outputId": "a798053b-28d8-431e-dd66-5a8a4475a522"
      },
      "execution_count": 11,
      "outputs": [
        {
          "output_type": "stream",
          "name": "stdout",
          "text": [
            "tensor(4.)\n"
          ]
        }
      ]
    },
    {
      "cell_type": "markdown",
      "source": [
        "pytorch-workflow\n",
        "Pytorch Workflow\n",
        "In PyTorch, neural networks are built using the torch.nn module where:\n",
        "\n",
        "nn.Linear(in_features, out_features) defines a fully connected (dense) layer.\n",
        "Activation functions like torch.relu, torch.sigmoid or torch.softmax are applied between layers.\n",
        "forward() method defines how data moves through the network.\n",
        "To build a neural network in PyTorch, we create a class that inherits from torch.nn.Module and defines its layers and forward pass."
      ],
      "metadata": {
        "id": "Ybs8RqNMeCSA"
      }
    },
    {
      "cell_type": "code",
      "source": [
        "import torch\n",
        "import torch.nn as nn\n",
        "\n",
        "\n",
        "class NeuralNetwork(nn.Module):\n",
        "    def __init__(self):\n",
        "        super(NeuralNetwork, self).__init__()\n",
        "        self.fc1 = nn.Linear(10, 16)\n",
        "        self.fc2 = nn.Linear(16, 8)\n",
        "        self.fc3 = nn.Linear(8, 1)\n",
        "\n",
        "    def forward(self, x):\n",
        "        x = torch.relu(self.fc1(x))\n",
        "        x = torch.relu(self.fc2(x))\n",
        "        x = torch.sigmoid(self.fc3(x))\n",
        "        return x\n",
        "\n",
        "\n",
        "model = NeuralNetwork()\n",
        "print(model)"
      ],
      "metadata": {
        "colab": {
          "base_uri": "https://localhost:8080/"
        },
        "id": "mUPdna-PeBMR",
        "outputId": "bc5c689e-825e-4cd9-a1b0-48335b3c22fb"
      },
      "execution_count": 12,
      "outputs": [
        {
          "output_type": "stream",
          "name": "stdout",
          "text": [
            "NeuralNetwork(\n",
            "  (fc1): Linear(in_features=10, out_features=16, bias=True)\n",
            "  (fc2): Linear(in_features=16, out_features=8, bias=True)\n",
            "  (fc3): Linear(in_features=8, out_features=1, bias=True)\n",
            ")\n"
          ]
        }
      ]
    },
    {
      "cell_type": "markdown",
      "source": [
        "Define Loss Function and Optimizer"
      ],
      "metadata": {
        "id": "kr_WTYsseW1y"
      }
    },
    {
      "cell_type": "code",
      "source": [
        "\n",
        "model = NeuralNetwork()\n",
        "criterion = nn.BCELoss()\n",
        "optimizer = torch.optim.Adam(model.parameters(), lr=0.01)\n"
      ],
      "metadata": {
        "id": "aD2npV8SeHyW"
      },
      "execution_count": 13,
      "outputs": []
    },
    {
      "cell_type": "markdown",
      "source": [
        "train the model"
      ],
      "metadata": {
        "id": "Np-vkz4Veg4_"
      }
    },
    {
      "cell_type": "code",
      "source": [
        "inputs = torch.randn((100, 10))\n",
        "targets = torch.randint(0, 2, (100, 1)).float()\n",
        "epochs = 20\n",
        "\n",
        "for epoch in range(epochs):\n",
        "    optimizer.zero_grad()\n",
        "    outputs = model(inputs)\n",
        "    loss = criterion(outputs, targets)\n",
        "    loss.backward()\n",
        "    optimizer.step()\n",
        "\n",
        "    if (epoch + 1) % 5 == 0:\n",
        "        print(f\"Epoch [{epoch+1}/{epochs}], Loss: {loss.item():.4f}\")"
      ],
      "metadata": {
        "colab": {
          "base_uri": "https://localhost:8080/"
        },
        "id": "2lZwq7m-ecV0",
        "outputId": "d1042b43-0294-43b9-c7ea-dcf66e90b646"
      },
      "execution_count": 14,
      "outputs": [
        {
          "output_type": "stream",
          "name": "stdout",
          "text": [
            "Epoch [5/20], Loss: 0.7089\n",
            "Epoch [10/20], Loss: 0.6922\n",
            "Epoch [15/20], Loss: 0.6685\n",
            "Epoch [20/20], Loss: 0.6393\n"
          ]
        }
      ]
    },
    {
      "cell_type": "code",
      "source": [
        "import torch\n",
        "\n",
        "tensor_1d = torch.tensor([1, 2, 3])\n",
        "print(\"1D Tensor (Vector):\")\n",
        "print(tensor_1d)\n",
        "print()\n",
        "\n",
        "tensor_2d = torch.tensor([[1, 2], [3, 4]])\n",
        "print(\"2D Tensor (Matrix):\")\n",
        "print(tensor_2d)\n",
        "print()\n",
        "\n",
        "random_tensor = torch.rand(2, 3)\n",
        "print(\"Random Tensor (2x3):\")\n",
        "print(random_tensor)\n",
        "print()\n",
        "\n",
        "zeros_tensor = torch.zeros(2, 3)\n",
        "print(\"Zeros Tensor (2x3):\")\n",
        "print(zeros_tensor)\n",
        "print()\n",
        "\n",
        "ones_tensor = torch.ones(2, 3)\n",
        "print(\"Ones Tensor (2x3):\")\n",
        "print(ones_tensor)"
      ],
      "metadata": {
        "colab": {
          "base_uri": "https://localhost:8080/"
        },
        "id": "KMoXTEwBfFra",
        "outputId": "a00e31a0-eb82-4ec7-9963-4c0679758e91"
      },
      "execution_count": 15,
      "outputs": [
        {
          "output_type": "stream",
          "name": "stdout",
          "text": [
            "1D Tensor (Vector):\n",
            "tensor([1, 2, 3])\n",
            "\n",
            "2D Tensor (Matrix):\n",
            "tensor([[1, 2],\n",
            "        [3, 4]])\n",
            "\n",
            "Random Tensor (2x3):\n",
            "tensor([[0.3330, 0.6797, 0.9301],\n",
            "        [0.6540, 0.9579, 0.5955]])\n",
            "\n",
            "Zeros Tensor (2x3):\n",
            "tensor([[0., 0., 0.],\n",
            "        [0., 0., 0.]])\n",
            "\n",
            "Ones Tensor (2x3):\n",
            "tensor([[1., 1., 1.],\n",
            "        [1., 1., 1.]])\n"
          ]
        }
      ]
    },
    {
      "cell_type": "markdown",
      "source": [
        "tensor operations in pytorch"
      ],
      "metadata": {
        "id": "CEjWtox5fZEJ"
      }
    },
    {
      "cell_type": "code",
      "source": [
        "import torch\n",
        "\n",
        "tensor = torch.tensor([[1, 2], [3, 4], [5, 6]])\n",
        "\n",
        "element = tensor[1, 0]\n",
        "print(f\"Indexed Element (Row 1, Column 0): {element}\")\n",
        "slice_tensor = tensor[:2, :]\n",
        "print(f\"Sliced Tensor (First two rows): \\n{slice_tensor}\")\n",
        "\n",
        "reshaped_tensor = tensor.view(2, 3)\n",
        "print(f\"Reshaped Tensor (2x3): \\n{reshaped_tensor}\")"
      ],
      "metadata": {
        "colab": {
          "base_uri": "https://localhost:8080/"
        },
        "id": "hTGotbhyfWOP",
        "outputId": "4b473ce1-3891-4d8e-b423-e7da5b7d404e"
      },
      "execution_count": 16,
      "outputs": [
        {
          "output_type": "stream",
          "name": "stdout",
          "text": [
            "Indexed Element (Row 1, Column 0): 3\n",
            "Sliced Tensor (First two rows): \n",
            "tensor([[1, 2],\n",
            "        [3, 4]])\n",
            "Reshaped Tensor (2x3): \n",
            "tensor([[1, 2, 3],\n",
            "        [4, 5, 6]])\n"
          ]
        }
      ]
    },
    {
      "cell_type": "markdown",
      "source": [
        "Common Tensor Functions: Broadcasting, Matrix Multiplication, etc."
      ],
      "metadata": {
        "id": "sS7JhU62fz8b"
      }
    },
    {
      "cell_type": "code",
      "source": [
        "import torch\n",
        "\n",
        "tensor_a = torch.tensor([[1, 2, 3], [4, 5, 6]])\n",
        "\n",
        "tensor_b = torch.tensor([[10, 20, 30]])\n",
        "\n",
        "broadcasted_result = tensor_a + tensor_b\n",
        "print(f\"Broadcasted Addition Result: \\n{broadcasted_result}\")\n",
        "\n",
        "matrix_multiplication_result = torch.matmul(tensor_a, tensor_a.T)\n",
        "print(f\"Matrix Multiplication Result (tensor_a * tensor_a^T): \\n{matrix_multiplication_result}\")"
      ],
      "metadata": {
        "colab": {
          "base_uri": "https://localhost:8080/"
        },
        "id": "8V5mHX_Rfwp_",
        "outputId": "cdc42c61-8df7-4337-bdff-24047e42ba78"
      },
      "execution_count": 17,
      "outputs": [
        {
          "output_type": "stream",
          "name": "stdout",
          "text": [
            "Broadcasted Addition Result: \n",
            "tensor([[11, 22, 33],\n",
            "        [14, 25, 36]])\n",
            "Matrix Multiplication Result (tensor_a * tensor_a^T): \n",
            "tensor([[14, 32],\n",
            "        [32, 77]])\n"
          ]
        }
      ]
    },
    {
      "cell_type": "markdown",
      "source": [
        "GPU Acceleration with pytorch"
      ],
      "metadata": {
        "id": "i3Abxw82f9rS"
      }
    },
    {
      "cell_type": "code",
      "source": [
        "import torch\n",
        "\n",
        "device = torch.device('cuda' if torch.cuda.is_available() else 'cpu')\n",
        "print(f'Using device: {device}')\n",
        "\n",
        "tensor_size = (10000, 10000)\n",
        "a = torch.randn(tensor_size, device=device)\n",
        "b = torch.randn(tensor_size, device=device)\n",
        "\n",
        "c = a + b\n",
        "\n",
        "print(\"Result shape (moved to CPU for printing):\", c.cpu().shape)\n",
        "\n",
        "print(\"Current GPU memory usage:\")\n",
        "print(f\"Allocated: {torch.cuda.memory_allocated(device) / (1024 ** 2):.2f} MB\")\n",
        "print(f\"Cached: {torch.cuda.memory_reserved(device) / (1024 ** 2):.2f} MB\")"
      ],
      "metadata": {
        "colab": {
          "base_uri": "https://localhost:8080/"
        },
        "id": "nXXsLdzBf5zt",
        "outputId": "f3c9e5d7-9471-4653-b35e-2b315f6e02b0"
      },
      "execution_count": 18,
      "outputs": [
        {
          "output_type": "stream",
          "name": "stdout",
          "text": [
            "Using device: cpu\n",
            "Result shape (moved to CPU for printing): torch.Size([10000, 10000])\n",
            "Current GPU memory usage:\n",
            "Allocated: 0.00 MB\n",
            "Cached: 0.00 MB\n"
          ]
        }
      ]
    },
    {
      "cell_type": "markdown",
      "source": [
        "building neural networks with pytorch"
      ],
      "metadata": {
        "id": "ESHU2_xTgGqd"
      }
    },
    {
      "cell_type": "code",
      "source": [
        "import torch\n",
        "import torch.nn as nn\n",
        "\n",
        "class SimpleNN(nn.Module):\n",
        "    def __init__(self):\n",
        "        super(SimpleNN, self).__init__()\n",
        "        self.fc1 = nn.Linear(2, 4)\n",
        "        self.fc2 = nn.Linear(4, 1)\n",
        "\n",
        "    def forward(self, x):\n",
        "        x = torch.relu(self.fc1(x))\n",
        "        x = self.fc2(x)\n",
        "        return x"
      ],
      "metadata": {
        "id": "E7lS-2ongMEt"
      },
      "execution_count": 19,
      "outputs": []
    },
    {
      "cell_type": "code",
      "source": [
        "X_train = torch.tensor([[0.0, 0.0], [0.0, 1.0], [1.0, 0.0], [1.0, 1.0]])\n",
        "y_train = torch.tensor([[0.0], [1.0], [1.0], [0.0]])"
      ],
      "metadata": {
        "id": "fR8ZuDYjgNcH"
      },
      "execution_count": 20,
      "outputs": []
    },
    {
      "cell_type": "code",
      "source": [
        "import torch.optim as optim\n",
        "model = SimpleNN()\n",
        "criterion = nn.MSELoss()\n",
        "optimizer = optim.SGD(model.parameters(), lr=0.1)"
      ],
      "metadata": {
        "id": "MOT9ol5egQ2b"
      },
      "execution_count": 21,
      "outputs": []
    },
    {
      "cell_type": "code",
      "source": [
        "for epoch in range(100):\n",
        "    model.train()\n",
        "\n",
        "    outputs = model(X_train)\n",
        "    loss = criterion(outputs, y_train)\n",
        "\n",
        "    optimizer.zero_grad()\n",
        "    loss.backward()\n",
        "    optimizer.step()\n",
        "\n",
        "    if (epoch + 1) % 10 == 0:\n",
        "        print(f'Epoch [{epoch + 1}/100], Loss: {loss.item():.4f}')"
      ],
      "metadata": {
        "colab": {
          "base_uri": "https://localhost:8080/"
        },
        "id": "jc2fpjqqgSze",
        "outputId": "1c806263-f8b4-474a-f59f-cb2917b87114"
      },
      "execution_count": 22,
      "outputs": [
        {
          "output_type": "stream",
          "name": "stdout",
          "text": [
            "Epoch [10/100], Loss: 0.2593\n",
            "Epoch [20/100], Loss: 0.2553\n",
            "Epoch [30/100], Loss: 0.2532\n",
            "Epoch [40/100], Loss: 0.2519\n",
            "Epoch [50/100], Loss: 0.2512\n",
            "Epoch [60/100], Loss: 0.2508\n",
            "Epoch [70/100], Loss: 0.2505\n",
            "Epoch [80/100], Loss: 0.2503\n",
            "Epoch [90/100], Loss: 0.2502\n",
            "Epoch [100/100], Loss: 0.2501\n"
          ]
        }
      ]
    },
    {
      "cell_type": "code",
      "source": [
        "model.eval()\n",
        "with torch.no_grad():\n",
        "    test_data = torch.tensor([[0.0, 0.0], [0.0, 1.0], [1.0, 0.0], [1.0, 1.0]])\n",
        "    predictions = model(test_data)\n",
        "    print(f'Predictions:\\n{predictions}')"
      ],
      "metadata": {
        "colab": {
          "base_uri": "https://localhost:8080/"
        },
        "id": "iAAh1yUPgVt4",
        "outputId": "9e3bec08-c825-424f-a81d-c89fb968cb47"
      },
      "execution_count": 23,
      "outputs": [
        {
          "output_type": "stream",
          "name": "stdout",
          "text": [
            "Predictions:\n",
            "tensor([[0.5159],\n",
            "        [0.4961],\n",
            "        [0.5068],\n",
            "        [0.4870]])\n"
          ]
        }
      ]
    },
    {
      "cell_type": "markdown",
      "source": [
        "Optimizing Model Training with PyTorch Datasets"
      ],
      "metadata": {
        "id": "HAkHvZ7hgbph"
      }
    },
    {
      "cell_type": "code",
      "source": [
        "import torch\n",
        "from torch.utils.data import Dataset, DataLoader\n",
        "\n",
        "class MyDataset(Dataset):\n",
        "    def __init__(self):\n",
        "        self.data = torch.tensor([[1.0, 2.0], [3.0, 4.0], [5.0, 6.0]])\n",
        "        self.labels = torch.tensor([0, 1, 0])\n",
        "\n",
        "    def __len__(self):\n",
        "        return len(self.data)\n",
        "\n",
        "    def __getitem__(self, idx):\n",
        "        return self.data[idx], self.labels[idx]\n",
        "\n",
        "dataset = MyDataset()\n",
        "dataloader = DataLoader(dataset, batch_size=2, shuffle=True)\n",
        "\n",
        "for batch in dataloader:\n",
        "    print(\"Batch Data:\", batch[0])\n",
        "    print(\"Batch Labels:\", batch[1])"
      ],
      "metadata": {
        "colab": {
          "base_uri": "https://localhost:8080/"
        },
        "id": "X-bPx55WgZO0",
        "outputId": "62d2c6fd-737d-46ab-eb07-5bedf534f762"
      },
      "execution_count": 24,
      "outputs": [
        {
          "output_type": "stream",
          "name": "stdout",
          "text": [
            "Batch Data: tensor([[1., 2.],\n",
            "        [3., 4.]])\n",
            "Batch Labels: tensor([0, 1])\n",
            "Batch Data: tensor([[5., 6.]])\n",
            "Batch Labels: tensor([0])\n"
          ]
        }
      ]
    }
  ]
}