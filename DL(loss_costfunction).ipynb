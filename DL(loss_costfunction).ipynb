{
  "nbformat": 4,
  "nbformat_minor": 0,
  "metadata": {
    "colab": {
      "provenance": []
    },
    "kernelspec": {
      "name": "python3",
      "display_name": "Python 3"
    },
    "language_info": {
      "name": "python"
    }
  },
  "cells": [
    {
      "cell_type": "code",
      "source": [
        "Mean Absolute Error"
      ],
      "metadata": {
        "id": "6yOANosli-Bk"
      },
      "execution_count": null,
      "outputs": []
    },
    {
      "cell_type": "markdown",
      "source": [],
      "metadata": {
        "id": "SKdrS4Q5i9hj"
      }
    },
    {
      "cell_type": "code",
      "execution_count": 1,
      "metadata": {
        "id": "7v_slpb6f-US"
      },
      "outputs": [],
      "source": [
        "import numpy as np\n",
        "y_predicted=np.array([1,1,0,0,1])\n",
        "y_true=np.array([0.30,0.7,1,0,0.5])"
      ]
    },
    {
      "cell_type": "code",
      "source": [
        "def mae(y_true,y_predicted):\n",
        "  total_error=0\n",
        "  for yt,yp in zip(y_true,y_predicted):\n",
        "    total_error+=abs(yt-yp)\n",
        "  print(\"Total_error:\",total_error)\n",
        "  mae=total_error/len(y_true)\n",
        "  print(\"MAE:\",mae)\n",
        "  return mae"
      ],
      "metadata": {
        "id": "KMaUTrdygzt3"
      },
      "execution_count": 4,
      "outputs": []
    },
    {
      "cell_type": "code",
      "source": [
        "mae(y_true,y_predicted)"
      ],
      "metadata": {
        "colab": {
          "base_uri": "https://localhost:8080/"
        },
        "id": "bgk9jM9hhSDC",
        "outputId": "aaab3756-ec2e-412d-f001-bd2b42785c85"
      },
      "execution_count": 5,
      "outputs": [
        {
          "output_type": "stream",
          "name": "stdout",
          "text": [
            "Total_error: 2.5\n",
            "MAE: 0.5\n"
          ]
        },
        {
          "output_type": "execute_result",
          "data": {
            "text/plain": [
              "np.float64(0.5)"
            ]
          },
          "metadata": {},
          "execution_count": 5
        }
      ]
    },
    {
      "cell_type": "code",
      "source": [
        "np.mean(np.abs(y_predicted-y_true))"
      ],
      "metadata": {
        "colab": {
          "base_uri": "https://localhost:8080/"
        },
        "id": "F6P_jldAhVjT",
        "outputId": "dc7e8899-dd7b-4ff9-ad17-5aa47c87b33d"
      },
      "execution_count": 8,
      "outputs": [
        {
          "output_type": "execute_result",
          "data": {
            "text/plain": [
              "np.float64(0.5)"
            ]
          },
          "metadata": {},
          "execution_count": 8
        }
      ]
    },
    {
      "cell_type": "markdown",
      "source": [
        "Logloss/Binary cross entropy"
      ],
      "metadata": {
        "id": "G7kVPZFJjB2a"
      }
    },
    {
      "cell_type": "code",
      "source": [
        "np.log([0.00000000000001])"
      ],
      "metadata": {
        "colab": {
          "base_uri": "https://localhost:8080/"
        },
        "id": "kcUtt_OgiyU2",
        "outputId": "2e99a28e-8904-480f-d169-46329b82b35c"
      },
      "execution_count": 9,
      "outputs": [
        {
          "output_type": "execute_result",
          "data": {
            "text/plain": [
              "array([-32.2361913])"
            ]
          },
          "metadata": {},
          "execution_count": 9
        }
      ]
    },
    {
      "cell_type": "code",
      "source": [
        "epsilon=1e-15"
      ],
      "metadata": {
        "id": "ssXJia0ejwzS"
      },
      "execution_count": 11,
      "outputs": []
    },
    {
      "cell_type": "code",
      "source": [
        "y_predicted_new = [max(i, epsilon) for i in y_predicted]\n",
        "y_predicted_new"
      ],
      "metadata": {
        "colab": {
          "base_uri": "https://localhost:8080/"
        },
        "id": "dzy0y8dQj9XY",
        "outputId": "4facc392-f494-4dd9-fdef-0c6fa8bbed07"
      },
      "execution_count": 12,
      "outputs": [
        {
          "output_type": "execute_result",
          "data": {
            "text/plain": [
              "[np.int64(1), np.int64(1), 1e-15, 1e-15, np.int64(1)]"
            ]
          },
          "metadata": {},
          "execution_count": 12
        }
      ]
    },
    {
      "cell_type": "code",
      "source": [
        "y_predicted_new = [min(i, 1 - epsilon) for i in y_predicted_new]\n",
        "y_predicted_new"
      ],
      "metadata": {
        "colab": {
          "base_uri": "https://localhost:8080/"
        },
        "id": "7e2KjiVykh-R",
        "outputId": "def96359-9b41-4825-adba-12076663b2e1"
      },
      "execution_count": 13,
      "outputs": [
        {
          "output_type": "execute_result",
          "data": {
            "text/plain": [
              "[0.999999999999999, 0.999999999999999, 1e-15, 1e-15, 0.999999999999999]"
            ]
          },
          "metadata": {},
          "execution_count": 13
        }
      ]
    },
    {
      "cell_type": "code",
      "source": [
        "y_predicted_new = np.array(y_predicted_new)\n",
        "np.log(y_predicted_new)"
      ],
      "metadata": {
        "colab": {
          "base_uri": "https://localhost:8080/"
        },
        "id": "QDsVYNOvkk2L",
        "outputId": "115ae71c-a388-4955-d6a4-393ff60ba9b5"
      },
      "execution_count": 14,
      "outputs": [
        {
          "output_type": "execute_result",
          "data": {
            "text/plain": [
              "array([-9.99200722e-16, -9.99200722e-16, -3.45387764e+01, -3.45387764e+01,\n",
              "       -9.99200722e-16])"
            ]
          },
          "metadata": {},
          "execution_count": 14
        }
      ]
    },
    {
      "cell_type": "code",
      "source": [
        "# Binary Cross-Entropy calculation\n",
        "-np.mean(y_true * np.log(y_predicted_new) + (1 - y_true) * np.log(1 - y_predicted_new))"
      ],
      "metadata": {
        "colab": {
          "base_uri": "https://localhost:8080/"
        },
        "id": "qrEXbTjEkn3A",
        "outputId": "c0eacfb7-8132-4987-a2dc-4142430a724f"
      },
      "execution_count": 15,
      "outputs": [
        {
          "output_type": "execute_result",
          "data": {
            "text/plain": [
              "np.float64(17.2696280766844)"
            ]
          },
          "metadata": {},
          "execution_count": 15
        }
      ]
    },
    {
      "cell_type": "code",
      "source": [
        "def log_loss(y_true, y_predicted):\n",
        "    y_predicted_new = [max(i, epsilon) for i in y_predicted]\n",
        "    y_predicted_new = [min(i, 1 - epsilon) for i in y_predicted_new]\n",
        "    y_predicted_new = np.array(y_predicted_new)\n",
        "    return -np.mean(y_true * np.log(y_predicted_new) + (1 - y_true) * np.log(1 - y_predicted_new))\n"
      ],
      "metadata": {
        "id": "SWWWi-pak1Eq"
      },
      "execution_count": 16,
      "outputs": []
    },
    {
      "cell_type": "code",
      "source": [
        "import numpy as np\n",
        "\n",
        "# Example data from before\n",
        "epsilon = 1e-15\n",
        "y_true = np.array([1, 0, 1, 0, 1])\n",
        "y_predicted = np.array([1, 0, 0.3, 0.2, 1])\n",
        "\n",
        "def log_loss(y_true, y_predicted):\n",
        "    y_predicted_new = [max(i, epsilon) for i in y_predicted]\n",
        "    y_predicted_new = [min(i, 1 - epsilon) for i in y_predicted_new]\n",
        "    y_predicted_new = np.array(y_predicted_new)\n",
        "    return -np.mean(y_true * np.log(y_predicted_new) + (1 - y_true) * np.log(1 - y_predicted_new))\n",
        "\n",
        "print(log_loss(y_true, y_predicted))\n",
        "#getting different output"
      ],
      "metadata": {
        "colab": {
          "base_uri": "https://localhost:8080/"
        },
        "id": "HrWYYurek2vN",
        "outputId": "e55e7ac6-dc6a-40ab-e5ba-14aaac60c5df"
      },
      "execution_count": 21,
      "outputs": [
        {
          "output_type": "stream",
          "name": "stdout",
          "text": [
            "0.2854232711280298\n"
          ]
        }
      ]
    },
    {
      "cell_type": "markdown",
      "source": [
        "MSE without NumPy (Plain Python)"
      ],
      "metadata": {
        "id": "sqxnlObelXkY"
      }
    },
    {
      "cell_type": "code",
      "source": [
        "def mse_plain(y_true, y_predicted):\n",
        "    errors = [(yt - yp) ** 2 for yt, yp in zip(y_true, y_predicted)]\n",
        "    return sum(errors) / len(errors)\n",
        "\n",
        "# Example\n",
        "y_true = [1, 0, 1, 0, 1]\n",
        "y_predicted = [0.8, 0.2, 0.6, 0.1, 0.9]\n",
        "print(\"MSE (plain Python):\", mse_plain(y_true, y_predicted))\n"
      ],
      "metadata": {
        "colab": {
          "base_uri": "https://localhost:8080/"
        },
        "id": "IQpafi9BlYL4",
        "outputId": "af64eb41-0184-440f-d7c2-47e7ff836eee"
      },
      "execution_count": 19,
      "outputs": [
        {
          "output_type": "stream",
          "name": "stdout",
          "text": [
            "MSE (plain Python): 0.052000000000000005\n"
          ]
        }
      ]
    },
    {
      "cell_type": "code",
      "source": [
        "import numpy as np\n",
        "\n",
        "def mse_numpy(y_true, y_predicted):\n",
        "    y_true = np.array(y_true)\n",
        "    y_predicted = np.array(y_predicted)\n",
        "    return np.mean((y_true - y_predicted) ** 2)\n",
        "\n",
        "# Example\n",
        "print(\"MSE (NumPy):\", mse_numpy(y_true, y_predicted))\n"
      ],
      "metadata": {
        "colab": {
          "base_uri": "https://localhost:8080/"
        },
        "id": "nRed17_jlh4B",
        "outputId": "649f4c00-a88c-4306-ee2f-64ae8ba867ed"
      },
      "execution_count": 20,
      "outputs": [
        {
          "output_type": "stream",
          "name": "stdout",
          "text": [
            "MSE (NumPy): 0.052000000000000005\n"
          ]
        }
      ]
    }
  ]
}